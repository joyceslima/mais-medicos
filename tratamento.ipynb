{
 "cells": [
  {
   "cell_type": "markdown",
   "metadata": {},
   "source": [
    "### Tratamento de Dados"
   ]
  },
  {
   "cell_type": "code",
   "execution_count": 248,
   "metadata": {},
   "outputs": [],
   "source": [
    "import seaborn as sns\n",
    "import pandas as pd\n",
    "import matplotlib.pyplot as plt"
   ]
  },
  {
   "cell_type": "code",
   "execution_count": 249,
   "metadata": {},
   "outputs": [],
   "source": [
    "df_distribuicao = pd.read_csv('distribuicao_geografica.csv')"
   ]
  },
  {
   "cell_type": "code",
   "execution_count": 250,
   "metadata": {},
   "outputs": [
    {
     "data": {
      "text/html": [
       "<div>\n",
       "<style scoped>\n",
       "    .dataframe tbody tr th:only-of-type {\n",
       "        vertical-align: middle;\n",
       "    }\n",
       "\n",
       "    .dataframe tbody tr th {\n",
       "        vertical-align: top;\n",
       "    }\n",
       "\n",
       "    .dataframe thead th {\n",
       "        text-align: right;\n",
       "    }\n",
       "</style>\n",
       "<table border=\"1\" class=\"dataframe\">\n",
       "  <thead>\n",
       "    <tr style=\"text-align: right;\">\n",
       "      <th></th>\n",
       "      <th>Região</th>\n",
       "      <th>UF</th>\n",
       "      <th>Município / DSEI</th>\n",
       "      <th>Cód. IBGE</th>\n",
       "      <th>Perfil município</th>\n",
       "      <th>Total de médicos em atividade</th>\n",
       "    </tr>\n",
       "  </thead>\n",
       "  <tbody>\n",
       "    <tr>\n",
       "      <th>count</th>\n",
       "      <td>5604</td>\n",
       "      <td>5604</td>\n",
       "      <td>5604</td>\n",
       "      <td>5604.000000</td>\n",
       "      <td>5604</td>\n",
       "      <td>5604.000000</td>\n",
       "    </tr>\n",
       "    <tr>\n",
       "      <th>unique</th>\n",
       "      <td>10</td>\n",
       "      <td>27</td>\n",
       "      <td>5332</td>\n",
       "      <td>NaN</td>\n",
       "      <td>8</td>\n",
       "      <td>NaN</td>\n",
       "    </tr>\n",
       "    <tr>\n",
       "      <th>top</th>\n",
       "      <td>Nordeste</td>\n",
       "      <td>MG</td>\n",
       "      <td>Bom Jesus</td>\n",
       "      <td>NaN</td>\n",
       "      <td>Perfil 7 - Extrema Pobreza</td>\n",
       "      <td>NaN</td>\n",
       "    </tr>\n",
       "    <tr>\n",
       "      <th>freq</th>\n",
       "      <td>1794</td>\n",
       "      <td>854</td>\n",
       "      <td>5</td>\n",
       "      <td>NaN</td>\n",
       "      <td>1708</td>\n",
       "      <td>NaN</td>\n",
       "    </tr>\n",
       "    <tr>\n",
       "      <th>mean</th>\n",
       "      <td>NaN</td>\n",
       "      <td>NaN</td>\n",
       "      <td>NaN</td>\n",
       "      <td>324865.429158</td>\n",
       "      <td>NaN</td>\n",
       "      <td>1.476802</td>\n",
       "    </tr>\n",
       "    <tr>\n",
       "      <th>std</th>\n",
       "      <td>NaN</td>\n",
       "      <td>NaN</td>\n",
       "      <td>NaN</td>\n",
       "      <td>99040.772208</td>\n",
       "      <td>NaN</td>\n",
       "      <td>3.511435</td>\n",
       "    </tr>\n",
       "    <tr>\n",
       "      <th>min</th>\n",
       "      <td>NaN</td>\n",
       "      <td>NaN</td>\n",
       "      <td>NaN</td>\n",
       "      <td>110001.000000</td>\n",
       "      <td>NaN</td>\n",
       "      <td>0.000000</td>\n",
       "    </tr>\n",
       "    <tr>\n",
       "      <th>25%</th>\n",
       "      <td>NaN</td>\n",
       "      <td>NaN</td>\n",
       "      <td>NaN</td>\n",
       "      <td>251097.500000</td>\n",
       "      <td>NaN</td>\n",
       "      <td>0.000000</td>\n",
       "    </tr>\n",
       "    <tr>\n",
       "      <th>50%</th>\n",
       "      <td>NaN</td>\n",
       "      <td>NaN</td>\n",
       "      <td>NaN</td>\n",
       "      <td>314565.000000</td>\n",
       "      <td>NaN</td>\n",
       "      <td>0.000000</td>\n",
       "    </tr>\n",
       "    <tr>\n",
       "      <th>75%</th>\n",
       "      <td>NaN</td>\n",
       "      <td>NaN</td>\n",
       "      <td>NaN</td>\n",
       "      <td>411911.250000</td>\n",
       "      <td>NaN</td>\n",
       "      <td>2.000000</td>\n",
       "    </tr>\n",
       "    <tr>\n",
       "      <th>max</th>\n",
       "      <td>NaN</td>\n",
       "      <td>NaN</td>\n",
       "      <td>NaN</td>\n",
       "      <td>530010.000000</td>\n",
       "      <td>NaN</td>\n",
       "      <td>90.000000</td>\n",
       "    </tr>\n",
       "  </tbody>\n",
       "</table>\n",
       "</div>"
      ],
      "text/plain": [
       "          Região    UF Município / DSEI      Cód. IBGE  \\\n",
       "count       5604  5604             5604    5604.000000   \n",
       "unique        10    27             5332            NaN   \n",
       "top     Nordeste    MG        Bom Jesus            NaN   \n",
       "freq        1794   854                5            NaN   \n",
       "mean         NaN   NaN              NaN  324865.429158   \n",
       "std          NaN   NaN              NaN   99040.772208   \n",
       "min          NaN   NaN              NaN  110001.000000   \n",
       "25%          NaN   NaN              NaN  251097.500000   \n",
       "50%          NaN   NaN              NaN  314565.000000   \n",
       "75%          NaN   NaN              NaN  411911.250000   \n",
       "max          NaN   NaN              NaN  530010.000000   \n",
       "\n",
       "                  Perfil município  Total de médicos em atividade  \n",
       "count                         5604                    5604.000000  \n",
       "unique                           8                            NaN  \n",
       "top     Perfil 7 - Extrema Pobreza                            NaN  \n",
       "freq                          1708                            NaN  \n",
       "mean                           NaN                       1.476802  \n",
       "std                            NaN                       3.511435  \n",
       "min                            NaN                       0.000000  \n",
       "25%                            NaN                       0.000000  \n",
       "50%                            NaN                       0.000000  \n",
       "75%                            NaN                       2.000000  \n",
       "max                            NaN                      90.000000  "
      ]
     },
     "execution_count": 250,
     "metadata": {},
     "output_type": "execute_result"
    }
   ],
   "source": [
    "df_distribuicao.describe(include='all')"
   ]
  },
  {
   "cell_type": "code",
   "execution_count": 251,
   "metadata": {},
   "outputs": [
    {
     "name": "stdout",
     "output_type": "stream",
     "text": [
      "<class 'pandas.core.frame.DataFrame'>\n",
      "RangeIndex: 5604 entries, 0 to 5603\n",
      "Data columns (total 6 columns):\n",
      " #   Column                         Non-Null Count  Dtype \n",
      "---  ------                         --------------  ----- \n",
      " 0   Região                         5604 non-null   object\n",
      " 1   UF                             5604 non-null   object\n",
      " 2   Município / DSEI               5604 non-null   object\n",
      " 3   Cód. IBGE                      5604 non-null   int64 \n",
      " 4   Perfil município               5604 non-null   object\n",
      " 5   Total de médicos em atividade  5604 non-null   int64 \n",
      "dtypes: int64(2), object(4)\n",
      "memory usage: 262.8+ KB\n"
     ]
    }
   ],
   "source": [
    "df_distribuicao.info()"
   ]
  },
  {
   "cell_type": "code",
   "execution_count": 252,
   "metadata": {},
   "outputs": [
    {
     "name": "stdout",
     "output_type": "stream",
     "text": [
      "[120001 120005 120010 ... 172130 172208 172210]\n"
     ]
    }
   ],
   "source": [
    "# Verificar valores únicos na coluna\n",
    "print(df_distribuicao['Cód. IBGE'].unique())"
   ]
  },
  {
   "cell_type": "code",
   "execution_count": 253,
   "metadata": {},
   "outputs": [
    {
     "name": "stdout",
     "output_type": "stream",
     "text": [
      "Região                           0\n",
      "UF                               0\n",
      "Município / DSEI                 0\n",
      "Cód. IBGE                        0\n",
      "Perfil município                 0\n",
      "Total de médicos em atividade    0\n",
      "dtype: int64\n"
     ]
    }
   ],
   "source": [
    "# verifica nulos\n",
    "nulos = df_distribuicao.isnull().sum()\n",
    "print(nulos)"
   ]
  },
  {
   "cell_type": "code",
   "execution_count": 254,
   "metadata": {},
   "outputs": [
    {
     "data": {
      "text/plain": [
       "Index(['Região', 'UF', 'Município / DSEI', 'Cód. IBGE', 'Perfil município',\n",
       "       'Total de médicos em atividade'],\n",
       "      dtype='object')"
      ]
     },
     "execution_count": 254,
     "metadata": {},
     "output_type": "execute_result"
    }
   ],
   "source": [
    "df_distribuicao.columns"
   ]
  },
  {
   "cell_type": "code",
   "execution_count": 255,
   "metadata": {},
   "outputs": [],
   "source": [
    "# renomear coluna\n",
    "df_distribuicao.rename(columns={'Cód. IBGE': 'Cód.Ibge do Município'}, inplace=True)"
   ]
  },
  {
   "cell_type": "code",
   "execution_count": 256,
   "metadata": {},
   "outputs": [
    {
     "data": {
      "text/plain": [
       "Index(['Região', 'UF', 'Município / DSEI', 'Cód.Ibge do Município',\n",
       "       'Perfil município', 'Total de médicos em atividade'],\n",
       "      dtype='object')"
      ]
     },
     "execution_count": 256,
     "metadata": {},
     "output_type": "execute_result"
    }
   ],
   "source": [
    "df_distribuicao.columns"
   ]
  },
  {
   "cell_type": "code",
   "execution_count": 257,
   "metadata": {},
   "outputs": [
    {
     "name": "stdout",
     "output_type": "stream",
     "text": [
      "<class 'pandas.core.frame.DataFrame'>\n",
      "RangeIndex: 5604 entries, 0 to 5603\n",
      "Data columns (total 6 columns):\n",
      " #   Column                         Non-Null Count  Dtype \n",
      "---  ------                         --------------  ----- \n",
      " 0   Região                         5604 non-null   object\n",
      " 1   UF                             5604 non-null   object\n",
      " 2   Município / DSEI               5604 non-null   object\n",
      " 3   Cód.Ibge do Município          5604 non-null   int64 \n",
      " 4   Perfil município               5604 non-null   object\n",
      " 5   Total de médicos em atividade  5604 non-null   int64 \n",
      "dtypes: int64(2), object(4)\n",
      "memory usage: 262.8+ KB\n"
     ]
    }
   ],
   "source": [
    "df_distribuicao.info()"
   ]
  },
  {
   "cell_type": "code",
   "execution_count": 258,
   "metadata": {},
   "outputs": [
    {
     "name": "stdout",
     "output_type": "stream",
     "text": [
      "0\n"
     ]
    }
   ],
   "source": [
    "# verifica duplicados\n",
    "duplicados = df_distribuicao.duplicated().sum()\n",
    "print(duplicados)"
   ]
  },
  {
   "cell_type": "code",
   "execution_count": 259,
   "metadata": {},
   "outputs": [
    {
     "data": {
      "text/html": [
       "<div>\n",
       "<style scoped>\n",
       "    .dataframe tbody tr th:only-of-type {\n",
       "        vertical-align: middle;\n",
       "    }\n",
       "\n",
       "    .dataframe tbody tr th {\n",
       "        vertical-align: top;\n",
       "    }\n",
       "\n",
       "    .dataframe thead th {\n",
       "        text-align: right;\n",
       "    }\n",
       "</style>\n",
       "<table border=\"1\" class=\"dataframe\">\n",
       "  <thead>\n",
       "    <tr style=\"text-align: right;\">\n",
       "      <th></th>\n",
       "      <th>Região</th>\n",
       "      <th>UF</th>\n",
       "      <th>Município / DSEI</th>\n",
       "      <th>Cód.Ibge do Município</th>\n",
       "      <th>Perfil município</th>\n",
       "      <th>Total de médicos em atividade</th>\n",
       "    </tr>\n",
       "  </thead>\n",
       "  <tbody>\n",
       "    <tr>\n",
       "      <th>0</th>\n",
       "      <td>Norte</td>\n",
       "      <td>AC</td>\n",
       "      <td>Acrelândia</td>\n",
       "      <td>120001</td>\n",
       "      <td>Perfil 7 - Extrema Pobreza</td>\n",
       "      <td>4</td>\n",
       "    </tr>\n",
       "    <tr>\n",
       "      <th>1</th>\n",
       "      <td>Norte</td>\n",
       "      <td>AC</td>\n",
       "      <td>Assis Brasil</td>\n",
       "      <td>120005</td>\n",
       "      <td>Perfil 7 - Extrema Pobreza</td>\n",
       "      <td>1</td>\n",
       "    </tr>\n",
       "    <tr>\n",
       "      <th>2</th>\n",
       "      <td>Norte</td>\n",
       "      <td>AC</td>\n",
       "      <td>Brasiléia</td>\n",
       "      <td>120010</td>\n",
       "      <td>Perfil 7 - Extrema Pobreza</td>\n",
       "      <td>4</td>\n",
       "    </tr>\n",
       "    <tr>\n",
       "      <th>3</th>\n",
       "      <td>Norte</td>\n",
       "      <td>AC</td>\n",
       "      <td>Bujari</td>\n",
       "      <td>120013</td>\n",
       "      <td>Perfil 7 - Extrema Pobreza</td>\n",
       "      <td>1</td>\n",
       "    </tr>\n",
       "    <tr>\n",
       "      <th>4</th>\n",
       "      <td>Norte</td>\n",
       "      <td>AC</td>\n",
       "      <td>Capixaba</td>\n",
       "      <td>120017</td>\n",
       "      <td>Perfil 7 - Extrema Pobreza</td>\n",
       "      <td>1</td>\n",
       "    </tr>\n",
       "  </tbody>\n",
       "</table>\n",
       "</div>"
      ],
      "text/plain": [
       "  Região  UF Município / DSEI  Cód.Ibge do Município  \\\n",
       "0  Norte  AC       Acrelândia                 120001   \n",
       "1  Norte  AC     Assis Brasil                 120005   \n",
       "2  Norte  AC        Brasiléia                 120010   \n",
       "3  Norte  AC           Bujari                 120013   \n",
       "4  Norte  AC         Capixaba                 120017   \n",
       "\n",
       "             Perfil município  Total de médicos em atividade  \n",
       "0  Perfil 7 - Extrema Pobreza                              4  \n",
       "1  Perfil 7 - Extrema Pobreza                              1  \n",
       "2  Perfil 7 - Extrema Pobreza                              4  \n",
       "3  Perfil 7 - Extrema Pobreza                              1  \n",
       "4  Perfil 7 - Extrema Pobreza                              1  "
      ]
     },
     "execution_count": 259,
     "metadata": {},
     "output_type": "execute_result"
    }
   ],
   "source": [
    "df_distribuicao.head()"
   ]
  },
  {
   "cell_type": "code",
   "execution_count": 260,
   "metadata": {},
   "outputs": [
    {
     "data": {
      "text/plain": [
       "Index(['Região', 'UF', 'Município / DSEI', 'Cód.Ibge do Município',\n",
       "       'Perfil município', 'Total de médicos em atividade'],\n",
       "      dtype='object')"
      ]
     },
     "execution_count": 260,
     "metadata": {},
     "output_type": "execute_result"
    }
   ],
   "source": [
    "df_distribuicao.columns"
   ]
  },
  {
   "cell_type": "code",
   "execution_count": 261,
   "metadata": {},
   "outputs": [],
   "source": [
    "df_demanda = pd.read_csv('demanda.csv')"
   ]
  },
  {
   "cell_type": "code",
   "execution_count": 262,
   "metadata": {},
   "outputs": [
    {
     "data": {
      "text/html": [
       "<div>\n",
       "<style scoped>\n",
       "    .dataframe tbody tr th:only-of-type {\n",
       "        vertical-align: middle;\n",
       "    }\n",
       "\n",
       "    .dataframe tbody tr th {\n",
       "        vertical-align: top;\n",
       "    }\n",
       "\n",
       "    .dataframe thead th {\n",
       "        text-align: right;\n",
       "    }\n",
       "</style>\n",
       "<table border=\"1\" class=\"dataframe\">\n",
       "  <thead>\n",
       "    <tr style=\"text-align: right;\">\n",
       "      <th></th>\n",
       "      <th>Nome do Profissional</th>\n",
       "      <th>Ciclo Atuação</th>\n",
       "      <th>Perfil do Profissional</th>\n",
       "      <th>Nacionalidade</th>\n",
       "      <th>UF de Atuação do Profissional</th>\n",
       "      <th>Município/DSEI de Atuação do Profissional</th>\n",
       "      <th>Cód.Ibge do Município</th>\n",
       "      <th>Início das Atividades</th>\n",
       "      <th>Fim das Atividades</th>\n",
       "    </tr>\n",
       "  </thead>\n",
       "  <tbody>\n",
       "    <tr>\n",
       "      <th>count</th>\n",
       "      <td>58964</td>\n",
       "      <td>58964</td>\n",
       "      <td>58964</td>\n",
       "      <td>58964</td>\n",
       "      <td>58964</td>\n",
       "      <td>58964</td>\n",
       "      <td>58964.000000</td>\n",
       "      <td>58964</td>\n",
       "      <td>58964</td>\n",
       "    </tr>\n",
       "    <tr>\n",
       "      <th>unique</th>\n",
       "      <td>52639</td>\n",
       "      <td>28</td>\n",
       "      <td>4</td>\n",
       "      <td>64</td>\n",
       "      <td>27</td>\n",
       "      <td>4031</td>\n",
       "      <td>NaN</td>\n",
       "      <td>1800</td>\n",
       "      <td>3394</td>\n",
       "    </tr>\n",
       "    <tr>\n",
       "      <th>top</th>\n",
       "      <td>VLADIMIR CAPELASSO</td>\n",
       "      <td>RESERVA</td>\n",
       "      <td>CRM BRASIL / MAIS MEDICOS</td>\n",
       "      <td>BRASIL</td>\n",
       "      <td>SP</td>\n",
       "      <td>SAO PAULO</td>\n",
       "      <td>NaN</td>\n",
       "      <td>12/3/2018</td>\n",
       "      <td>11/30/2018</td>\n",
       "    </tr>\n",
       "    <tr>\n",
       "      <th>freq</th>\n",
       "      <td>5</td>\n",
       "      <td>8081</td>\n",
       "      <td>27490</td>\n",
       "      <td>35625</td>\n",
       "      <td>7997</td>\n",
       "      <td>842</td>\n",
       "      <td>NaN</td>\n",
       "      <td>1592</td>\n",
       "      <td>3737</td>\n",
       "    </tr>\n",
       "    <tr>\n",
       "      <th>mean</th>\n",
       "      <td>NaN</td>\n",
       "      <td>NaN</td>\n",
       "      <td>NaN</td>\n",
       "      <td>NaN</td>\n",
       "      <td>NaN</td>\n",
       "      <td>NaN</td>\n",
       "      <td>307033.347229</td>\n",
       "      <td>NaN</td>\n",
       "      <td>NaN</td>\n",
       "    </tr>\n",
       "    <tr>\n",
       "      <th>std</th>\n",
       "      <td>NaN</td>\n",
       "      <td>NaN</td>\n",
       "      <td>NaN</td>\n",
       "      <td>NaN</td>\n",
       "      <td>NaN</td>\n",
       "      <td>NaN</td>\n",
       "      <td>102610.703192</td>\n",
       "      <td>NaN</td>\n",
       "      <td>NaN</td>\n",
       "    </tr>\n",
       "    <tr>\n",
       "      <th>min</th>\n",
       "      <td>NaN</td>\n",
       "      <td>NaN</td>\n",
       "      <td>NaN</td>\n",
       "      <td>NaN</td>\n",
       "      <td>NaN</td>\n",
       "      <td>NaN</td>\n",
       "      <td>110001.000000</td>\n",
       "      <td>NaN</td>\n",
       "      <td>NaN</td>\n",
       "    </tr>\n",
       "    <tr>\n",
       "      <th>25%</th>\n",
       "      <td>NaN</td>\n",
       "      <td>NaN</td>\n",
       "      <td>NaN</td>\n",
       "      <td>NaN</td>\n",
       "      <td>NaN</td>\n",
       "      <td>NaN</td>\n",
       "      <td>230930.000000</td>\n",
       "      <td>NaN</td>\n",
       "      <td>NaN</td>\n",
       "    </tr>\n",
       "    <tr>\n",
       "      <th>50%</th>\n",
       "      <td>NaN</td>\n",
       "      <td>NaN</td>\n",
       "      <td>NaN</td>\n",
       "      <td>NaN</td>\n",
       "      <td>NaN</td>\n",
       "      <td>NaN</td>\n",
       "      <td>310620.000000</td>\n",
       "      <td>NaN</td>\n",
       "      <td>NaN</td>\n",
       "    </tr>\n",
       "    <tr>\n",
       "      <th>75%</th>\n",
       "      <td>NaN</td>\n",
       "      <td>NaN</td>\n",
       "      <td>NaN</td>\n",
       "      <td>NaN</td>\n",
       "      <td>NaN</td>\n",
       "      <td>NaN</td>\n",
       "      <td>355030.000000</td>\n",
       "      <td>NaN</td>\n",
       "      <td>NaN</td>\n",
       "    </tr>\n",
       "    <tr>\n",
       "      <th>max</th>\n",
       "      <td>NaN</td>\n",
       "      <td>NaN</td>\n",
       "      <td>NaN</td>\n",
       "      <td>NaN</td>\n",
       "      <td>NaN</td>\n",
       "      <td>NaN</td>\n",
       "      <td>530010.000000</td>\n",
       "      <td>NaN</td>\n",
       "      <td>NaN</td>\n",
       "    </tr>\n",
       "  </tbody>\n",
       "</table>\n",
       "</div>"
      ],
      "text/plain": [
       "       Nome do Profissional Ciclo Atuação     Perfil do Profissional  \\\n",
       "count                 58964         58964                      58964   \n",
       "unique                52639            28                          4   \n",
       "top      VLADIMIR CAPELASSO       RESERVA  CRM BRASIL / MAIS MEDICOS   \n",
       "freq                      5          8081                      27490   \n",
       "mean                    NaN           NaN                        NaN   \n",
       "std                     NaN           NaN                        NaN   \n",
       "min                     NaN           NaN                        NaN   \n",
       "25%                     NaN           NaN                        NaN   \n",
       "50%                     NaN           NaN                        NaN   \n",
       "75%                     NaN           NaN                        NaN   \n",
       "max                     NaN           NaN                        NaN   \n",
       "\n",
       "       Nacionalidade UF de Atuação do Profissional  \\\n",
       "count          58964                         58964   \n",
       "unique            64                            27   \n",
       "top           BRASIL                            SP   \n",
       "freq           35625                          7997   \n",
       "mean             NaN                           NaN   \n",
       "std              NaN                           NaN   \n",
       "min              NaN                           NaN   \n",
       "25%              NaN                           NaN   \n",
       "50%              NaN                           NaN   \n",
       "75%              NaN                           NaN   \n",
       "max              NaN                           NaN   \n",
       "\n",
       "       Município/DSEI de Atuação do Profissional  Cód.Ibge do Município  \\\n",
       "count                                      58964           58964.000000   \n",
       "unique                                      4031                    NaN   \n",
       "top                                    SAO PAULO                    NaN   \n",
       "freq                                         842                    NaN   \n",
       "mean                                         NaN          307033.347229   \n",
       "std                                          NaN          102610.703192   \n",
       "min                                          NaN          110001.000000   \n",
       "25%                                          NaN          230930.000000   \n",
       "50%                                          NaN          310620.000000   \n",
       "75%                                          NaN          355030.000000   \n",
       "max                                          NaN          530010.000000   \n",
       "\n",
       "       Início das Atividades Fim das Atividades  \n",
       "count                  58964              58964  \n",
       "unique                  1800               3394  \n",
       "top                12/3/2018         11/30/2018  \n",
       "freq                    1592               3737  \n",
       "mean                     NaN                NaN  \n",
       "std                      NaN                NaN  \n",
       "min                      NaN                NaN  \n",
       "25%                      NaN                NaN  \n",
       "50%                      NaN                NaN  \n",
       "75%                      NaN                NaN  \n",
       "max                      NaN                NaN  "
      ]
     },
     "execution_count": 262,
     "metadata": {},
     "output_type": "execute_result"
    }
   ],
   "source": [
    "df_demanda.describe(include='all')"
   ]
  },
  {
   "cell_type": "code",
   "execution_count": 263,
   "metadata": {},
   "outputs": [
    {
     "name": "stdout",
     "output_type": "stream",
     "text": [
      "<class 'pandas.core.frame.DataFrame'>\n",
      "RangeIndex: 58964 entries, 0 to 58963\n",
      "Data columns (total 9 columns):\n",
      " #   Column                                     Non-Null Count  Dtype \n",
      "---  ------                                     --------------  ----- \n",
      " 0   Nome do Profissional                       58964 non-null  object\n",
      " 1   Ciclo Atuação                              58964 non-null  object\n",
      " 2   Perfil do Profissional                     58964 non-null  object\n",
      " 3   Nacionalidade                              58964 non-null  object\n",
      " 4   UF de Atuação do Profissional              58964 non-null  object\n",
      " 5   Município/DSEI de Atuação do Profissional  58964 non-null  object\n",
      " 6   Cód.Ibge do Município                      58964 non-null  int64 \n",
      " 7   Início das Atividades                      58964 non-null  object\n",
      " 8   Fim das Atividades                         58964 non-null  object\n",
      "dtypes: int64(1), object(8)\n",
      "memory usage: 4.0+ MB\n"
     ]
    }
   ],
   "source": [
    "df_demanda.info()"
   ]
  },
  {
   "cell_type": "code",
   "execution_count": 264,
   "metadata": {},
   "outputs": [],
   "source": [
    "# converte tipo object para datetime\n",
    "df_demanda['Início das Atividades'] = pd.to_datetime(df_demanda['Início das Atividades'], errors='coerce')"
   ]
  },
  {
   "cell_type": "code",
   "execution_count": 265,
   "metadata": {},
   "outputs": [],
   "source": [
    "# converte tipo object para datetime\n",
    "df_demanda['Fim das Atividades'] = pd.to_datetime(df_demanda['Fim das Atividades'], errors='coerce')"
   ]
  },
  {
   "cell_type": "code",
   "execution_count": 266,
   "metadata": {},
   "outputs": [
    {
     "name": "stdout",
     "output_type": "stream",
     "text": [
      "Nome do Profissional                           0\n",
      "Ciclo Atuação                                  0\n",
      "Perfil do Profissional                         0\n",
      "Nacionalidade                                  0\n",
      "UF de Atuação do Profissional                  0\n",
      "Município/DSEI de Atuação do Profissional      0\n",
      "Cód.Ibge do Município                          0\n",
      "Início das Atividades                          0\n",
      "Fim das Atividades                           355\n",
      "dtype: int64\n"
     ]
    }
   ],
   "source": [
    "#verifica nulos\n",
    "nulo = df_demanda.isnull().sum()\n",
    "print(nulo)"
   ]
  },
  {
   "cell_type": "code",
   "execution_count": 267,
   "metadata": {},
   "outputs": [
    {
     "data": {
      "text/plain": [
       "Index(['Nome do Profissional', 'Ciclo Atuação', 'Perfil do Profissional',\n",
       "       'Nacionalidade', 'UF de Atuação do Profissional',\n",
       "       'Município/DSEI de Atuação do Profissional', 'Cód.Ibge do Município',\n",
       "       'Início das Atividades', 'Fim das Atividades'],\n",
       "      dtype='object')"
      ]
     },
     "execution_count": 267,
     "metadata": {},
     "output_type": "execute_result"
    }
   ],
   "source": [
    "df_demanda.columns"
   ]
  },
  {
   "cell_type": "code",
   "execution_count": 268,
   "metadata": {},
   "outputs": [
    {
     "name": "stdout",
     "output_type": "stream",
     "text": [
      "0\n"
     ]
    }
   ],
   "source": [
    "# verifica duplicados\n",
    "duplicado = df_demanda.duplicated().sum()\n",
    "print(duplicado)"
   ]
  },
  {
   "cell_type": "code",
   "execution_count": 269,
   "metadata": {},
   "outputs": [
    {
     "data": {
      "text/html": [
       "<div>\n",
       "<style scoped>\n",
       "    .dataframe tbody tr th:only-of-type {\n",
       "        vertical-align: middle;\n",
       "    }\n",
       "\n",
       "    .dataframe tbody tr th {\n",
       "        vertical-align: top;\n",
       "    }\n",
       "\n",
       "    .dataframe thead th {\n",
       "        text-align: right;\n",
       "    }\n",
       "</style>\n",
       "<table border=\"1\" class=\"dataframe\">\n",
       "  <thead>\n",
       "    <tr style=\"text-align: right;\">\n",
       "      <th></th>\n",
       "      <th>Nome do Profissional</th>\n",
       "      <th>Ciclo Atuação</th>\n",
       "      <th>Perfil do Profissional</th>\n",
       "      <th>Nacionalidade</th>\n",
       "      <th>UF de Atuação do Profissional</th>\n",
       "      <th>Município/DSEI de Atuação do Profissional</th>\n",
       "      <th>Cód.Ibge do Município</th>\n",
       "      <th>Início das Atividades</th>\n",
       "      <th>Fim das Atividades</th>\n",
       "    </tr>\n",
       "  </thead>\n",
       "  <tbody>\n",
       "    <tr>\n",
       "      <th>0</th>\n",
       "      <td>ALEXANDRE CARLOS REBOUCAS DA CUNHA</td>\n",
       "      <td>SEXTO CICLO</td>\n",
       "      <td>INTERCAMBISTA INDIVIDUAL</td>\n",
       "      <td>BRASIL</td>\n",
       "      <td>AC</td>\n",
       "      <td>ACRELANDIA</td>\n",
       "      <td>120001</td>\n",
       "      <td>2015-07-06</td>\n",
       "      <td>2021-07-06</td>\n",
       "    </tr>\n",
       "    <tr>\n",
       "      <th>1</th>\n",
       "      <td>ALFREDO FELIX GONZALEZ KIM</td>\n",
       "      <td>SEGUNDO CICLO</td>\n",
       "      <td>INTERCAMBISTA COOPERADO</td>\n",
       "      <td>CUBA</td>\n",
       "      <td>AC</td>\n",
       "      <td>ACRELANDIA</td>\n",
       "      <td>120001</td>\n",
       "      <td>2013-12-15</td>\n",
       "      <td>2017-01-02</td>\n",
       "    </tr>\n",
       "    <tr>\n",
       "      <th>2</th>\n",
       "      <td>ARTHUR DA SILVA DIAS</td>\n",
       "      <td>VIGESIMO QUARTO CICLO</td>\n",
       "      <td>CRM BRASIL / MAIS MEDICOS</td>\n",
       "      <td>BRASIL</td>\n",
       "      <td>AC</td>\n",
       "      <td>ACRELANDIA</td>\n",
       "      <td>120001</td>\n",
       "      <td>2022-04-06</td>\n",
       "      <td>2025-04-06</td>\n",
       "    </tr>\n",
       "    <tr>\n",
       "      <th>3</th>\n",
       "      <td>CASSIO PATRICK BARBOSA</td>\n",
       "      <td>VIGESIMO TERCEIRO CICLO</td>\n",
       "      <td>CRM BRASIL / MAIS MEDICOS</td>\n",
       "      <td>BRASIL</td>\n",
       "      <td>AC</td>\n",
       "      <td>ACRELANDIA</td>\n",
       "      <td>120001</td>\n",
       "      <td>2021-06-21</td>\n",
       "      <td>2022-11-04</td>\n",
       "    </tr>\n",
       "    <tr>\n",
       "      <th>4</th>\n",
       "      <td>DANIEL BADER DARUB</td>\n",
       "      <td>DECIMO SEXTO CICLO</td>\n",
       "      <td>CRM BRASIL / MAIS MEDICOS</td>\n",
       "      <td>BRASIL</td>\n",
       "      <td>AC</td>\n",
       "      <td>ACRELANDIA</td>\n",
       "      <td>120001</td>\n",
       "      <td>2018-12-11</td>\n",
       "      <td>2024-12-11</td>\n",
       "    </tr>\n",
       "  </tbody>\n",
       "</table>\n",
       "</div>"
      ],
      "text/plain": [
       "                 Nome do Profissional            Ciclo Atuação  \\\n",
       "0  ALEXANDRE CARLOS REBOUCAS DA CUNHA              SEXTO CICLO   \n",
       "1          ALFREDO FELIX GONZALEZ KIM            SEGUNDO CICLO   \n",
       "2                ARTHUR DA SILVA DIAS    VIGESIMO QUARTO CICLO   \n",
       "3              CASSIO PATRICK BARBOSA  VIGESIMO TERCEIRO CICLO   \n",
       "4                  DANIEL BADER DARUB       DECIMO SEXTO CICLO   \n",
       "\n",
       "      Perfil do Profissional Nacionalidade UF de Atuação do Profissional  \\\n",
       "0   INTERCAMBISTA INDIVIDUAL        BRASIL                            AC   \n",
       "1    INTERCAMBISTA COOPERADO          CUBA                            AC   \n",
       "2  CRM BRASIL / MAIS MEDICOS        BRASIL                            AC   \n",
       "3  CRM BRASIL / MAIS MEDICOS        BRASIL                            AC   \n",
       "4  CRM BRASIL / MAIS MEDICOS        BRASIL                            AC   \n",
       "\n",
       "  Município/DSEI de Atuação do Profissional  Cód.Ibge do Município  \\\n",
       "0                                ACRELANDIA                 120001   \n",
       "1                                ACRELANDIA                 120001   \n",
       "2                                ACRELANDIA                 120001   \n",
       "3                                ACRELANDIA                 120001   \n",
       "4                                ACRELANDIA                 120001   \n",
       "\n",
       "  Início das Atividades Fim das Atividades  \n",
       "0            2015-07-06         2021-07-06  \n",
       "1            2013-12-15         2017-01-02  \n",
       "2            2022-04-06         2025-04-06  \n",
       "3            2021-06-21         2022-11-04  \n",
       "4            2018-12-11         2024-12-11  "
      ]
     },
     "execution_count": 269,
     "metadata": {},
     "output_type": "execute_result"
    }
   ],
   "source": [
    "df_demanda.head()"
   ]
  },
  {
   "cell_type": "code",
   "execution_count": 272,
   "metadata": {},
   "outputs": [],
   "source": [
    "df_mais_medicos = pd.merge(df_demanda, df_distribuicao, on='Cód.Ibge do Município', how='inner')"
   ]
  },
  {
   "cell_type": "code",
   "execution_count": 275,
   "metadata": {},
   "outputs": [
    {
     "data": {
      "text/html": [
       "<div>\n",
       "<style scoped>\n",
       "    .dataframe tbody tr th:only-of-type {\n",
       "        vertical-align: middle;\n",
       "    }\n",
       "\n",
       "    .dataframe tbody tr th {\n",
       "        vertical-align: top;\n",
       "    }\n",
       "\n",
       "    .dataframe thead th {\n",
       "        text-align: right;\n",
       "    }\n",
       "</style>\n",
       "<table border=\"1\" class=\"dataframe\">\n",
       "  <thead>\n",
       "    <tr style=\"text-align: right;\">\n",
       "      <th></th>\n",
       "      <th>Nome do Profissional</th>\n",
       "      <th>Ciclo Atuação</th>\n",
       "      <th>Perfil do Profissional</th>\n",
       "      <th>Nacionalidade</th>\n",
       "      <th>UF de Atuação do Profissional</th>\n",
       "      <th>Município/DSEI de Atuação do Profissional</th>\n",
       "      <th>Cód.Ibge do Município</th>\n",
       "      <th>Início das Atividades</th>\n",
       "      <th>Fim das Atividades</th>\n",
       "      <th>Região</th>\n",
       "      <th>UF</th>\n",
       "      <th>Município / DSEI</th>\n",
       "      <th>Perfil município</th>\n",
       "      <th>Total de médicos em atividade</th>\n",
       "    </tr>\n",
       "  </thead>\n",
       "  <tbody>\n",
       "    <tr>\n",
       "      <th>0</th>\n",
       "      <td>ALEXANDRE CARLOS REBOUCAS DA CUNHA</td>\n",
       "      <td>SEXTO CICLO</td>\n",
       "      <td>INTERCAMBISTA INDIVIDUAL</td>\n",
       "      <td>BRASIL</td>\n",
       "      <td>AC</td>\n",
       "      <td>ACRELANDIA</td>\n",
       "      <td>120001</td>\n",
       "      <td>2015-07-06</td>\n",
       "      <td>2021-07-06</td>\n",
       "      <td>Norte</td>\n",
       "      <td>AC</td>\n",
       "      <td>Acrelândia</td>\n",
       "      <td>Perfil 7 - Extrema Pobreza</td>\n",
       "      <td>4</td>\n",
       "    </tr>\n",
       "    <tr>\n",
       "      <th>1</th>\n",
       "      <td>ALFREDO FELIX GONZALEZ KIM</td>\n",
       "      <td>SEGUNDO CICLO</td>\n",
       "      <td>INTERCAMBISTA COOPERADO</td>\n",
       "      <td>CUBA</td>\n",
       "      <td>AC</td>\n",
       "      <td>ACRELANDIA</td>\n",
       "      <td>120001</td>\n",
       "      <td>2013-12-15</td>\n",
       "      <td>2017-01-02</td>\n",
       "      <td>Norte</td>\n",
       "      <td>AC</td>\n",
       "      <td>Acrelândia</td>\n",
       "      <td>Perfil 7 - Extrema Pobreza</td>\n",
       "      <td>4</td>\n",
       "    </tr>\n",
       "    <tr>\n",
       "      <th>2</th>\n",
       "      <td>ARTHUR DA SILVA DIAS</td>\n",
       "      <td>VIGESIMO QUARTO CICLO</td>\n",
       "      <td>CRM BRASIL / MAIS MEDICOS</td>\n",
       "      <td>BRASIL</td>\n",
       "      <td>AC</td>\n",
       "      <td>ACRELANDIA</td>\n",
       "      <td>120001</td>\n",
       "      <td>2022-04-06</td>\n",
       "      <td>2025-04-06</td>\n",
       "      <td>Norte</td>\n",
       "      <td>AC</td>\n",
       "      <td>Acrelândia</td>\n",
       "      <td>Perfil 7 - Extrema Pobreza</td>\n",
       "      <td>4</td>\n",
       "    </tr>\n",
       "    <tr>\n",
       "      <th>3</th>\n",
       "      <td>CASSIO PATRICK BARBOSA</td>\n",
       "      <td>VIGESIMO TERCEIRO CICLO</td>\n",
       "      <td>CRM BRASIL / MAIS MEDICOS</td>\n",
       "      <td>BRASIL</td>\n",
       "      <td>AC</td>\n",
       "      <td>ACRELANDIA</td>\n",
       "      <td>120001</td>\n",
       "      <td>2021-06-21</td>\n",
       "      <td>2022-11-04</td>\n",
       "      <td>Norte</td>\n",
       "      <td>AC</td>\n",
       "      <td>Acrelândia</td>\n",
       "      <td>Perfil 7 - Extrema Pobreza</td>\n",
       "      <td>4</td>\n",
       "    </tr>\n",
       "    <tr>\n",
       "      <th>4</th>\n",
       "      <td>DANIEL BADER DARUB</td>\n",
       "      <td>DECIMO SEXTO CICLO</td>\n",
       "      <td>CRM BRASIL / MAIS MEDICOS</td>\n",
       "      <td>BRASIL</td>\n",
       "      <td>AC</td>\n",
       "      <td>ACRELANDIA</td>\n",
       "      <td>120001</td>\n",
       "      <td>2018-12-11</td>\n",
       "      <td>2024-12-11</td>\n",
       "      <td>Norte</td>\n",
       "      <td>AC</td>\n",
       "      <td>Acrelândia</td>\n",
       "      <td>Perfil 7 - Extrema Pobreza</td>\n",
       "      <td>4</td>\n",
       "    </tr>\n",
       "  </tbody>\n",
       "</table>\n",
       "</div>"
      ],
      "text/plain": [
       "                 Nome do Profissional            Ciclo Atuação  \\\n",
       "0  ALEXANDRE CARLOS REBOUCAS DA CUNHA              SEXTO CICLO   \n",
       "1          ALFREDO FELIX GONZALEZ KIM            SEGUNDO CICLO   \n",
       "2                ARTHUR DA SILVA DIAS    VIGESIMO QUARTO CICLO   \n",
       "3              CASSIO PATRICK BARBOSA  VIGESIMO TERCEIRO CICLO   \n",
       "4                  DANIEL BADER DARUB       DECIMO SEXTO CICLO   \n",
       "\n",
       "      Perfil do Profissional Nacionalidade UF de Atuação do Profissional  \\\n",
       "0   INTERCAMBISTA INDIVIDUAL        BRASIL                            AC   \n",
       "1    INTERCAMBISTA COOPERADO          CUBA                            AC   \n",
       "2  CRM BRASIL / MAIS MEDICOS        BRASIL                            AC   \n",
       "3  CRM BRASIL / MAIS MEDICOS        BRASIL                            AC   \n",
       "4  CRM BRASIL / MAIS MEDICOS        BRASIL                            AC   \n",
       "\n",
       "  Município/DSEI de Atuação do Profissional  Cód.Ibge do Município  \\\n",
       "0                                ACRELANDIA                 120001   \n",
       "1                                ACRELANDIA                 120001   \n",
       "2                                ACRELANDIA                 120001   \n",
       "3                                ACRELANDIA                 120001   \n",
       "4                                ACRELANDIA                 120001   \n",
       "\n",
       "  Início das Atividades Fim das Atividades Região  UF Município / DSEI  \\\n",
       "0            2015-07-06         2021-07-06  Norte  AC       Acrelândia   \n",
       "1            2013-12-15         2017-01-02  Norte  AC       Acrelândia   \n",
       "2            2022-04-06         2025-04-06  Norte  AC       Acrelândia   \n",
       "3            2021-06-21         2022-11-04  Norte  AC       Acrelândia   \n",
       "4            2018-12-11         2024-12-11  Norte  AC       Acrelândia   \n",
       "\n",
       "             Perfil município  Total de médicos em atividade  \n",
       "0  Perfil 7 - Extrema Pobreza                              4  \n",
       "1  Perfil 7 - Extrema Pobreza                              4  \n",
       "2  Perfil 7 - Extrema Pobreza                              4  \n",
       "3  Perfil 7 - Extrema Pobreza                              4  \n",
       "4  Perfil 7 - Extrema Pobreza                              4  "
      ]
     },
     "execution_count": 275,
     "metadata": {},
     "output_type": "execute_result"
    }
   ],
   "source": [
    "df_mais_medicos.head()"
   ]
  },
  {
   "cell_type": "code",
   "execution_count": 276,
   "metadata": {},
   "outputs": [],
   "source": [
    "df_mais_medicos.to_csv('mais_medicos.csv', index=False)"
   ]
  },
  {
   "cell_type": "markdown",
   "metadata": {},
   "source": [
    "### Análise dos Dados"
   ]
  },
  {
   "cell_type": "code",
   "execution_count": 277,
   "metadata": {},
   "outputs": [
    {
     "name": "stdout",
     "output_type": "stream",
     "text": [
      "Município/DSEI de Atuação do Profissional\n",
      "FORTALEZA                 1438\n",
      "SALVADOR                   954\n",
      "SAO PAULO                  842\n",
      "MANAUS                     806\n",
      "BRASILIA                   437\n",
      "                          ... \n",
      "Timbiras                     1\n",
      "SANTA LUZIA DO PARA          1\n",
      "JAU DO TOCANTINS             1\n",
      "CONCEICAO DO TOCANTINS       1\n",
      "COLMEIA                      1\n",
      "Name: count, Length: 4031, dtype: int64\n"
     ]
    }
   ],
   "source": [
    "# Contagem de médicos por município\n",
    "medicos_por_municipio = df_mais_medicos['Município/DSEI de Atuação do Profissional'].value_counts()\n",
    "print(medicos_por_municipio)"
   ]
  },
  {
   "cell_type": "code",
   "execution_count": 278,
   "metadata": {},
   "outputs": [
    {
     "name": "stdout",
     "output_type": "stream",
     "text": [
      "Nacionalidade\n",
      "BRASIL                                  60.982239\n",
      "CUBA                                    37.037037\n",
      "BOLIVIA                                  0.399894\n",
      "VENEZUELA                                0.346783\n",
      "ARGENTINA                                0.288986\n",
      "                                          ...    \n",
      "TAIWAN (FORMOSA, REPUBLICA DA CHINA)     0.001562\n",
      "POLONIA                                  0.001562\n",
      "GUINE                                    0.001562\n",
      "FRANÇA                                   0.001562\n",
      "CROACIA                                  0.001562\n",
      "Name: proportion, Length: 64, dtype: float64\n"
     ]
    }
   ],
   "source": [
    "# Proporção de médicos por nacionalidade\n",
    "genero_proporcao = df_mais_medicos['Nacionalidade'].value_counts(normalize=True) * 100\n",
    "print(genero_proporcao)"
   ]
  },
  {
   "cell_type": "code",
   "execution_count": 279,
   "metadata": {},
   "outputs": [],
   "source": [
    "# Calcula a diferença em dias\n",
    "df_mais_medicos['Diferença em Dias'] = (df_mais_medicos['Fim das Atividades'] - df_mais_medicos['Início das Atividades']).dt.days\n"
   ]
  },
  {
   "cell_type": "code",
   "execution_count": 280,
   "metadata": {},
   "outputs": [
    {
     "data": {
      "text/plain": [
       "Index(['Nome do Profissional', 'Ciclo Atuação', 'Perfil do Profissional',\n",
       "       'Nacionalidade', 'UF de Atuação do Profissional',\n",
       "       'Município/DSEI de Atuação do Profissional', 'Cód.Ibge do Município',\n",
       "       'Início das Atividades', 'Fim das Atividades', 'Região', 'UF',\n",
       "       'Município / DSEI', 'Perfil município', 'Total de médicos em atividade',\n",
       "       'Diferença em Dias'],\n",
       "      dtype='object')"
      ]
     },
     "execution_count": 280,
     "metadata": {},
     "output_type": "execute_result"
    }
   ],
   "source": [
    "df_mais_medicos.columns"
   ]
  },
  {
   "cell_type": "code",
   "execution_count": 281,
   "metadata": {},
   "outputs": [
    {
     "name": "stdout",
     "output_type": "stream",
     "text": [
      "      Início das Atividades Fim das Atividades  Diferença em Dias\n",
      "0                2015-07-06         2021-07-06             2192.0\n",
      "1                2013-12-15         2017-01-02             1114.0\n",
      "2                2022-04-06         2025-04-06             1096.0\n",
      "3                2021-06-21         2022-11-04              501.0\n",
      "4                2018-12-11         2024-12-11             2192.0\n",
      "...                     ...                ...                ...\n",
      "64012            2014-03-18         2017-04-19             1128.0\n",
      "64013            2014-01-09         2016-02-03              755.0\n",
      "64014            2022-04-08         2024-04-08              731.0\n",
      "64015            2023-02-07         2024-02-07              365.0\n",
      "64016            2019-06-27         2022-01-31              949.0\n",
      "\n",
      "[64017 rows x 3 columns]\n"
     ]
    }
   ],
   "source": [
    "print(df_mais_medicos[['Início das Atividades', 'Fim das Atividades', 'Diferença em Dias']])"
   ]
  },
  {
   "cell_type": "code",
   "execution_count": 282,
   "metadata": {},
   "outputs": [
    {
     "name": "stdout",
     "output_type": "stream",
     "text": [
      "Município/DSEI de Atuação do Profissional\n",
      "ABADIA DE GOIAS        1254.833333\n",
      "ABADIA DOS DOURADOS     339.000000\n",
      "ABADIANIA               975.411765\n",
      "ABAETE                  807.777778\n",
      "ABAETETUBA              872.200000\n",
      "                          ...     \n",
      "XAPURI                 1187.058824\n",
      "XAXIM                   585.200000\n",
      "XINGUARA               1271.500000\n",
      "XIQUE-XIQUE            1159.000000\n",
      "ZE DOCA                 920.066667\n",
      "Name: Diferença em Dias, Length: 4031, dtype: float64\n"
     ]
    }
   ],
   "source": [
    "# Tempo médio de serviço por localidade\n",
    "tempo_servico_medio = df_mais_medicos.groupby('Município/DSEI de Atuação do Profissional')['Diferença em Dias'].mean()\n",
    "print(tempo_servico_medio)"
   ]
  },
  {
   "cell_type": "markdown",
   "metadata": {},
   "source": [
    "1 - Mostrar a quantidade de médicos por Estado"
   ]
  },
  {
   "cell_type": "code",
   "execution_count": 283,
   "metadata": {},
   "outputs": [
    {
     "name": "stderr",
     "output_type": "stream",
     "text": [
      "C:\\Users\\55119\\AppData\\Local\\Temp\\ipykernel_9844\\3627440381.py:2: FutureWarning: \n",
      "\n",
      "Passing `palette` without assigning `hue` is deprecated and will be removed in v0.14.0. Assign the `x` variable to `hue` and set `legend=False` for the same effect.\n",
      "\n",
      "  sns.countplot(data=df_mais_medicos,\n"
     ]
    },
    {
     "data": {
      "image/png": "[encoded data removed]",
      "text/plain": [
       "<Figure size 1200x800 with 1 Axes>"
      ]
     },
     "metadata": {},
     "output_type": "display_data"
    }
   ],
   "source": [
    "\n",
    "plt.figure(figsize=(12, 8))\n",
    "sns.countplot(data=df_mais_medicos, \n",
    "              x='UF de Atuação do Profissional', \n",
    "              order=df_mais_medicos['UF de Atuação do Profissional'].value_counts().index, \n",
    "              palette='coolwarm')  # Altere para a paleta desejada\n",
    "plt.title('Quantidade de Médicos por Estado')\n",
    "plt.xlabel('Estado')\n",
    "plt.ylabel('Quantidade de Médicos')\n",
    "plt.xticks(rotation=90)\n",
    "plt.show()"
   ]
  },
  {
   "cell_type": "markdown",
   "metadata": {},
   "source": [
    "2 - Calcular a proporção de médicos por nacionalidade"
   ]
  },
  {
   "cell_type": "code",
   "execution_count": 202,
   "metadata": {},
   "outputs": [
    {
     "name": "stderr",
     "output_type": "stream",
     "text": [
      "C:\\Users\\55119\\AppData\\Local\\Temp\\ipykernel_9844\\3884066709.py:7: FutureWarning: \n",
      "\n",
      "Passing `palette` without assigning `hue` is deprecated and will be removed in v0.14.0. Assign the `x` variable to `hue` and set `legend=False` for the same effect.\n",
      "\n",
      "  sns.barplot(x=nacionalidade_proporcao_top.index, y=nacionalidade_proporcao_top.values, palette='viridis')\n"
     ]
    },
    {
     "data": {
      "image/png": "[encoded data removed]",
      "text/plain": [
       "<Figure size 1000x600 with 1 Axes>"
      ]
     },
     "metadata": {},
     "output_type": "display_data"
    }
   ],
   "source": [
    "# Calcular a proporção de médicos por nacionalidade\n",
    "nacionalidade_proporcao = df_mais_medicos['Nacionalidade'].value_counts(normalize=True) * 100\n",
    "nacionalidade_proporcao_top = nacionalidade_proporcao.head(10)\n",
    "\n",
    "# Plotar o gráfico de barras\n",
    "plt.figure(figsize=(10, 6))\n",
    "sns.barplot(x=nacionalidade_proporcao_top.index, y=nacionalidade_proporcao_top.values, palette='viridis')\n",
    "plt.title('Proporção de Médicos por Nacionalidade')\n",
    "plt.xlabel('Nacionalidade')\n",
    "plt.ylabel('Proporção (%)')\n",
    "plt.xticks(rotation=45)\n",
    "plt.show()"
   ]
  },
  {
   "cell_type": "markdown",
   "metadata": {},
   "source": [
    "3 - "
   ]
  },
  {
   "cell_type": "code",
   "execution_count": 203,
   "metadata": {},
   "outputs": [
    {
     "name": "stdout",
     "output_type": "stream",
     "text": [
      "0        BRASIL\n",
      "1          CUBA\n",
      "2        BRASIL\n",
      "3        BRASIL\n",
      "4        BRASIL\n",
      "          ...  \n",
      "64012      CUBA\n",
      "64013      CUBA\n",
      "64014      CUBA\n",
      "64015    BRASIL\n",
      "64016      CUBA\n",
      "Name: Nacionalidade, Length: 64017, dtype: object\n"
     ]
    }
   ],
   "source": [
    "print(df_mais_medicos['Nacionalidade'])"
   ]
  },
  {
   "cell_type": "code",
   "execution_count": null,
   "metadata": {},
   "outputs": [
    {
     "ename": "KeyError",
     "evalue": "'Total de médicos'",
     "output_type": "error",
     "traceback": [
      "\u001b[1;31m---------------------------------------------------------------------------\u001b[0m",
      "\u001b[1;31mKeyError\u001b[0m                                  Traceback (most recent call last)",
      "File \u001b[1;32mc:\\Users\\55119\\AppData\\Local\\Programs\\Python\\Python312\\Lib\\site-packages\\pandas\\core\\indexes\\base.py:3805\u001b[0m, in \u001b[0;36mIndex.get_loc\u001b[1;34m(self, key)\u001b[0m\n\u001b[0;32m   3804\u001b[0m \u001b[38;5;28;01mtry\u001b[39;00m:\n\u001b[1;32m-> 3805\u001b[0m     \u001b[38;5;28;01mreturn\u001b[39;00m \u001b[38;5;28;43mself\u001b[39;49m\u001b[38;5;241;43m.\u001b[39;49m\u001b[43m_engine\u001b[49m\u001b[38;5;241;43m.\u001b[39;49m\u001b[43mget_loc\u001b[49m\u001b[43m(\u001b[49m\u001b[43mcasted_key\u001b[49m\u001b[43m)\u001b[49m\n\u001b[0;32m   3806\u001b[0m \u001b[38;5;28;01mexcept\u001b[39;00m \u001b[38;5;167;01mKeyError\u001b[39;00m \u001b[38;5;28;01mas\u001b[39;00m err:\n",
      "File \u001b[1;32mindex.pyx:167\u001b[0m, in \u001b[0;36mpandas._libs.index.IndexEngine.get_loc\u001b[1;34m()\u001b[0m\n",
      "File \u001b[1;32mindex.pyx:196\u001b[0m, in \u001b[0;36mpandas._libs.index.IndexEngine.get_loc\u001b[1;34m()\u001b[0m\n",
      "File \u001b[1;32mpandas\\\\_libs\\\\hashtable_class_helper.pxi:7081\u001b[0m, in \u001b[0;36mpandas._libs.hashtable.PyObjectHashTable.get_item\u001b[1;34m()\u001b[0m\n",
      "File \u001b[1;32mpandas\\\\_libs\\\\hashtable_class_helper.pxi:7089\u001b[0m, in \u001b[0;36mpandas._libs.hashtable.PyObjectHashTable.get_item\u001b[1;34m()\u001b[0m\n",
      "\u001b[1;31mKeyError\u001b[0m: 'Total de médicos'",
      "\nThe above exception was the direct cause of the following exception:\n",
      "\u001b[1;31mKeyError\u001b[0m                                  Traceback (most recent call last)",
      "Cell \u001b[1;32mIn[204], line 1\u001b[0m\n\u001b[1;32m----> 1\u001b[0m \u001b[38;5;28mprint\u001b[39m(\u001b[43mdf_mais_medicos\u001b[49m\u001b[43m[\u001b[49m\u001b[38;5;124;43m'\u001b[39;49m\u001b[38;5;124;43mTotal de médicos\u001b[39;49m\u001b[38;5;124;43m'\u001b[39;49m\u001b[43m]\u001b[49m)\n",
      "File \u001b[1;32mc:\\Users\\55119\\AppData\\Local\\Programs\\Python\\Python312\\Lib\\site-packages\\pandas\\core\\frame.py:4102\u001b[0m, in \u001b[0;36mDataFrame.__getitem__\u001b[1;34m(self, key)\u001b[0m\n\u001b[0;32m   4100\u001b[0m \u001b[38;5;28;01mif\u001b[39;00m \u001b[38;5;28mself\u001b[39m\u001b[38;5;241m.\u001b[39mcolumns\u001b[38;5;241m.\u001b[39mnlevels \u001b[38;5;241m>\u001b[39m \u001b[38;5;241m1\u001b[39m:\n\u001b[0;32m   4101\u001b[0m     \u001b[38;5;28;01mreturn\u001b[39;00m \u001b[38;5;28mself\u001b[39m\u001b[38;5;241m.\u001b[39m_getitem_multilevel(key)\n\u001b[1;32m-> 4102\u001b[0m indexer \u001b[38;5;241m=\u001b[39m \u001b[38;5;28;43mself\u001b[39;49m\u001b[38;5;241;43m.\u001b[39;49m\u001b[43mcolumns\u001b[49m\u001b[38;5;241;43m.\u001b[39;49m\u001b[43mget_loc\u001b[49m\u001b[43m(\u001b[49m\u001b[43mkey\u001b[49m\u001b[43m)\u001b[49m\n\u001b[0;32m   4103\u001b[0m \u001b[38;5;28;01mif\u001b[39;00m is_integer(indexer):\n\u001b[0;32m   4104\u001b[0m     indexer \u001b[38;5;241m=\u001b[39m [indexer]\n",
      "File \u001b[1;32mc:\\Users\\55119\\AppData\\Local\\Programs\\Python\\Python312\\Lib\\site-packages\\pandas\\core\\indexes\\base.py:3812\u001b[0m, in \u001b[0;36mIndex.get_loc\u001b[1;34m(self, key)\u001b[0m\n\u001b[0;32m   3807\u001b[0m     \u001b[38;5;28;01mif\u001b[39;00m \u001b[38;5;28misinstance\u001b[39m(casted_key, \u001b[38;5;28mslice\u001b[39m) \u001b[38;5;129;01mor\u001b[39;00m (\n\u001b[0;32m   3808\u001b[0m         \u001b[38;5;28misinstance\u001b[39m(casted_key, abc\u001b[38;5;241m.\u001b[39mIterable)\n\u001b[0;32m   3809\u001b[0m         \u001b[38;5;129;01mand\u001b[39;00m \u001b[38;5;28many\u001b[39m(\u001b[38;5;28misinstance\u001b[39m(x, \u001b[38;5;28mslice\u001b[39m) \u001b[38;5;28;01mfor\u001b[39;00m x \u001b[38;5;129;01min\u001b[39;00m casted_key)\n\u001b[0;32m   3810\u001b[0m     ):\n\u001b[0;32m   3811\u001b[0m         \u001b[38;5;28;01mraise\u001b[39;00m InvalidIndexError(key)\n\u001b[1;32m-> 3812\u001b[0m     \u001b[38;5;28;01mraise\u001b[39;00m \u001b[38;5;167;01mKeyError\u001b[39;00m(key) \u001b[38;5;28;01mfrom\u001b[39;00m \u001b[38;5;21;01merr\u001b[39;00m\n\u001b[0;32m   3813\u001b[0m \u001b[38;5;28;01mexcept\u001b[39;00m \u001b[38;5;167;01mTypeError\u001b[39;00m:\n\u001b[0;32m   3814\u001b[0m     \u001b[38;5;66;03m# If we have a listlike key, _check_indexing_error will raise\u001b[39;00m\n\u001b[0;32m   3815\u001b[0m     \u001b[38;5;66;03m#  InvalidIndexError. Otherwise we fall through and re-raise\u001b[39;00m\n\u001b[0;32m   3816\u001b[0m     \u001b[38;5;66;03m#  the TypeError.\u001b[39;00m\n\u001b[0;32m   3817\u001b[0m     \u001b[38;5;28mself\u001b[39m\u001b[38;5;241m.\u001b[39m_check_indexing_error(key)\n",
      "\u001b[1;31mKeyError\u001b[0m: 'Total de médicos'"
     ]
    }
   ],
   "source": [
    "print(df_mais_medicos['Total de médicos'])"
   ]
  }
 ],
 "metadata": {
  "kernelspec": {
   "display_name": "Python 3",
   "language": "python",
   "name": "python3"
  },
  "language_info": {
   "codemirror_mode": {
    "name": "ipython",
    "version": 3
   },
   "file_extension": ".py",
   "mimetype": "text/x-python",
   "name": "python",
   "nbconvert_exporter": "python",
   "pygments_lexer": "ipython3",
   "version": "3.12.3"
  }
 },
 "nbformat": 4,
 "nbformat_minor": 2
}
